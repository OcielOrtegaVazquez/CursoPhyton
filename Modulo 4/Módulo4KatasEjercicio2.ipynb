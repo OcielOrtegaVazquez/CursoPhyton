{
 "cells": [
  {
   "cell_type": "code",
   "execution_count": 111,
   "metadata": {},
   "outputs": [
    {
     "name": "stdout",
     "output_type": "stream",
     "text": [
      "La Gravedad En: Moon\n",
      "En El Planeta Earth\n",
      " La Gravedad En Moon Es De: 1.6199999999999999M/S\n",
      "La Gravedad En Ganímedes\n",
      " En El Planeta: Marte\n",
      " La Gravedad En Ganímedes Es De: 1.4300000000000002\n"
     ]
    }
   ],
   "source": [
    "# Datos con los que vas a trabajar\n",
    "\n",
    "planeta = \"Earth\"\n",
    "gravedad = 0.00162 # in kms\n",
    "nombre = \"Moon\"\n",
    "\n",
    "# Crear Titulo\n",
    "\n",
    "titulo = f\"\"\"la gravedad en: {nombre}\"\"\".title()\n",
    "print(titulo)\n",
    "\n",
    "# Crear plantilla\n",
    "planeta = f\"\"\"en el planeta {planeta}\\n\"\"\".title()\n",
    "gravedad = f\"\"\"la gravedad en {nombre} es de: {gravedad * 1000}m/s\"\"\".title()\n",
    "\n",
    "#union\n",
    "texto = f\"\"\"{planeta} {gravedad}\"\"\"\n",
    "print(texto)\n",
    "\n",
    "# Nuevos datos muestra\n",
    "planeta = 'Marte'\n",
    "gravedad  = 0.00143\n",
    "nombre = 'Ganímedes'\n",
    "\n",
    "nuevoTexto = \"\"\"la gravedad en {nombre}\\n en el planeta: {planeta}\\n la gravedad en {nombre} es de: {gravedad}\"\"\"\n",
    "print(nuevoTexto.format(nombre=nombre, planeta=planeta, gravedad=gravedad*1000).title())\n"
   ]
  }
 ],
 "metadata": {
  "interpreter": {
   "hash": "695df99a7c2e3ed550c2c322d23fe660dffeeeff65386fd8e52516afd87f10f9"
  },
  "kernelspec": {
   "display_name": "Python 3.9.10 ('env': venv)",
   "language": "python",
   "name": "python3"
  },
  "language_info": {
   "codemirror_mode": {
    "name": "ipython",
    "version": 3
   },
   "file_extension": ".py",
   "mimetype": "text/x-python",
   "name": "python",
   "nbconvert_exporter": "python",
   "pygments_lexer": "ipython3",
   "version": "3.9.10"
  },
  "orig_nbformat": 4
 },
 "nbformat": 4,
 "nbformat_minor": 2
}
