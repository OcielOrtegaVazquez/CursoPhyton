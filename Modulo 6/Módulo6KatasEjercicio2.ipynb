{
 "cells": [
  {
   "cell_type": "code",
   "execution_count": 11,
   "metadata": {},
   "outputs": [
    {
     "name": "stdout",
     "output_type": "stream",
     "text": [
      "['Mercury', 'Venus', 'Earth', 'Mars', 'Jupiter', 'Saturn', 'Neptune']\n",
      "Earth\n",
      "El Planeta Que Vamos A Buscar Es:  Earth\n",
      "Los Planetas Mas Cercanos Son: \n",
      "['Mercury', 'Venus']\n",
      "Los Planetas Mas Lejanos Son: \n",
      "['Mars', 'Jupiter', 'Saturn', 'Neptune']\n"
     ]
    }
   ],
   "source": [
    "# Lista de planetas\n",
    "planets = ['Mercury', 'Venus', 'Earth', 'Mars', 'Jupiter', 'Saturn', 'Neptune']\n",
    "planets = planets[:]\n",
    "print(planets[:])\n",
    "\n",
    "# Solicitamos el nombre de un planeta *Pista:  input()*\n",
    "planet = input(\"Ingresa el planeta a buscar\").title()\n",
    "print(planet)\n",
    "\n",
    "# Busca el planeta en la lista\n",
    "planetBusqueda = planets.index(planet)\n",
    "print(\"El planeta que vamos a buscar es: \".title(), planets[planetBusqueda] )\n",
    "\n",
    "print(\"los planetas mas cercanos son: \".title())\n",
    "print(planets[0 : planetBusqueda])\n",
    "print(\"los planetas mas lejanos son: \".title())\n",
    "print(planets[planetBusqueda + 1 : ])\n",
    "\n"
   ]
  }
 ],
 "metadata": {
  "interpreter": {
   "hash": "695df99a7c2e3ed550c2c322d23fe660dffeeeff65386fd8e52516afd87f10f9"
  },
  "kernelspec": {
   "display_name": "Python 3.9.10 ('env': venv)",
   "language": "python",
   "name": "python3"
  },
  "language_info": {
   "codemirror_mode": {
    "name": "ipython",
    "version": 3
   },
   "file_extension": ".py",
   "mimetype": "text/x-python",
   "name": "python",
   "nbconvert_exporter": "python",
   "pygments_lexer": "ipython3",
   "version": "3.9.10"
  },
  "orig_nbformat": 4
 },
 "nbformat": 4,
 "nbformat_minor": 2
}
