{
 "cells": [
  {
   "cell_type": "code",
   "execution_count": 21,
   "metadata": {},
   "outputs": [
    {
     "name": "stdout",
     "output_type": "stream",
     "text": [
      "La Distancia Entre Los Dos Planetas Es:\n",
      " Km = 628949330\n",
      " Mi = 390577533.93\n"
     ]
    }
   ],
   "source": [
    "# Almacenar las entradas del usuario\n",
    "# Pista: variable = input(\"¿Cuál es tu nombre?\")\n",
    "# Convierte las cadenas de ambos planetas a números enteros\n",
    "\n",
    "distancia1 = int(input(\"Ingresa el primer valor\"))\n",
    "distancia2 = int(input(\"Ingresa el segundo valor\"))\n",
    "distanciaTotal = (distancia1 - distancia2)\n",
    "\n",
    "print( \"\"\"la distancia entre los dos planetas es:\\n KM = {distanciaKm}\\n Mi = {distanciaMi}\"\"\".format(distanciaKm = abs(distanciaTotal), distanciaMi = abs(distanciaTotal * 0.621)).title())\n"
   ]
  }
 ],
 "metadata": {
  "interpreter": {
   "hash": "695df99a7c2e3ed550c2c322d23fe660dffeeeff65386fd8e52516afd87f10f9"
  },
  "kernelspec": {
   "display_name": "Python 3.9.10 ('env': venv)",
   "language": "python",
   "name": "python3"
  },
  "language_info": {
   "codemirror_mode": {
    "name": "ipython",
    "version": 3
   },
   "file_extension": ".py",
   "mimetype": "text/x-python",
   "name": "python",
   "nbconvert_exporter": "python",
   "pygments_lexer": "ipython3",
   "version": "3.9.10"
  },
  "orig_nbformat": 4
 },
 "nbformat": 4,
 "nbformat_minor": 2
}
