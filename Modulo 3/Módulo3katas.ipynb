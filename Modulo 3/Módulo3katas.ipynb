{
 "cells": [
  {
   "cell_type": "code",
   "execution_count": 29,
   "metadata": {},
   "outputs": [
    {
     "name": "stdout",
     "output_type": "stream",
     "text": [
      "Cuidado se acerca un asteroide ponte a salvo\n"
     ]
    }
   ],
   "source": [
    "# Añadir el código necesario para crear una variable que guarde la velocidad del asteroide.\n",
    "# Escribe una expresión de prueba para calcular si necesita una advertencia.\n",
    "# Agregue las instrucciones que se ejecutarán si la expresión de prueba es true o false.\n",
    "\n",
    "asteriode = 35\n",
    "if (asteriode > 25):\n",
    "    print(\"Cuidado se acerca un asteroide ponte a salvo\")\n",
    "else:\n",
    "    print(\"El Asteroide no causará ningun daño\")"
   ]
  },
  {
   "cell_type": "code",
   "execution_count": 39,
   "metadata": {},
   "outputs": [
    {
     "name": "stdout",
     "output_type": "stream",
     "text": [
      "Mira el cielo se puede ver un asteroide es muy bello\n"
     ]
    }
   ],
   "source": [
    "# Si un asteroide entra en la atmósfera de la Tierra a una velocidad mayor o igual a 20\n",
    "# km/s, a veces produce un rayo de luz que se puede ver desde la Tierra.\n",
    "# Escribe la lógica condicional que usa declaraciones if, else, y elif para alertar\n",
    "# a las personas de todo el mundo que deben buscar un asteroide en el cielo.\n",
    "# ¡Hay uno que se dirige a la tierra ahora a una velocidad de 19 km/s!\n",
    "\n",
    "# Añadir el código necesario para crear una variable que guarde la velocidad del asteroide.\n",
    "# Escribe una expresión de prueba para calcular si necesita una advertencia.\n",
    "# Agregue las instrucciones que se ejecutarán si la expresión de prueba es true o false.\n",
    "\n",
    "asteriode = 20\n",
    "\n",
    "if(asteriode >= 20):\n",
    "    print(\"Mira el cielo se puede ver un asteroide es muy bello\")\n",
    "elif(asteriode == 19):\n",
    "    print(\"Se acerca un asteroide pero muy lento no causará ningun daño\")\n",
    "else:\n",
    "    print(\"Tenemos un cielo despejado y libre de cualquier peligro\")\n",
    "\n",
    "\n",
    "\n"
   ]
  },
  {
   "cell_type": "code",
   "execution_count": 74,
   "metadata": {},
   "outputs": [
    {
     "name": "stdout",
     "output_type": "stream",
     "text": [
      "El Tamaño del asteroide es de: 25 mts. No causará ningun problema\n"
     ]
    }
   ],
   "source": [
    "# *Los asteroides de menos de 25 metros en su dimensión más grande probablemente\n",
    "#  se quemarán a medida que entren en la atmósfera de la Tierra.\n",
    "\n",
    "# Si una pieza de un asteroide que es más grande que 25 metros pero más pequeña que 1000 metros\n",
    "#  golpeara la Tierra, causaría mucho daño.También discutimos en el ejercicio anterior que:\n",
    "\n",
    "#   *La velocidad del asteroide varía en función de lo cerca que esté del sol,\n",
    "#   y cualquier velocidad superior a 25 kilómetros por segundo (km/s) merece una advertencia.\n",
    "\n",
    "#   *Si un asteroide entra en la atmósfera de la Tierra a una velocidad mayor o igual a 20 km/s,\n",
    "#   a veces produce un rayo de luz que se puede ver desde la Tierra.\n",
    "\n",
    "tamañoAsteroide = 25\n",
    "velocidadAsteroide = 26\n",
    "\n",
    "if(tamañoAsteroide == 25):\n",
    "    print(\"El Tamaño del asteroide es de: \" + str(tamañoAsteroide)  + \" mts. No causará ningun problema\")\n",
    "elif(tamañoAsteroide > 25 or tamañoAsteroide <= 1000 and velocidadAsteroide > 25 ):\n",
    "    print(\"Ponte a salvo se acerca un asteroide muy grande de: \" + str(tamañoAsteroide) +\n",
    "            \"mts. Con una velocidad de: \" + str(velocidadAsteroide) + \"Kms x H\")\n",
    "elif(tamañoAsteroide <= 25 or tamañoAsteroide >= 20 and velocidadAsteroide >= 20 or velocidadAsteroide <= 25):\n",
    "    print(\"Mira el cielo se puede ver un asteroide es muy bello\")\n",
    "else:\n",
    "    print(\"El cielo esta despejado no hay nada que temer\")\n"
   ]
  }
 ],
 "metadata": {
  "interpreter": {
   "hash": "695df99a7c2e3ed550c2c322d23fe660dffeeeff65386fd8e52516afd87f10f9"
  },
  "kernelspec": {
   "display_name": "Python 3.9.10 ('env': venv)",
   "language": "python",
   "name": "python3"
  },
  "language_info": {
   "codemirror_mode": {
    "name": "ipython",
    "version": 3
   },
   "file_extension": ".py",
   "mimetype": "text/x-python",
   "name": "python",
   "nbconvert_exporter": "python",
   "pygments_lexer": "ipython3",
   "version": "3.9.10"
  },
  "orig_nbformat": 4
 },
 "nbformat": 4,
 "nbformat_minor": 2
}
