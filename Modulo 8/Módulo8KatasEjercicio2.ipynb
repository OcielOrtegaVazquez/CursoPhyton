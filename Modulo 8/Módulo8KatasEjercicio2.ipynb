{
 "cells": [
  {
   "cell_type": "code",
   "execution_count": 11,
   "metadata": {},
   "outputs": [
    {
     "name": "stdout",
     "output_type": "stream",
     "text": [
      "mercury : 0\n",
      "venus : 0\n",
      "earth : 1\n",
      "mars : 2\n",
      "jupiter : 79\n",
      "saturn : 82\n",
      "uranus : 27\n",
      "neptune : 14\n",
      "pluto : 5\n",
      "haumea : 2\n",
      "makemake : 1\n",
      "eris : 1\n",
      "dict_values([0, 0, 1, 2, 79, 82, 27, 14, 5, 2, 1, 1])\n",
      "12\n",
      "El promedio de lunas es de: 17.833333333333332\n"
     ]
    }
   ],
   "source": [
    "# Planets and moons\n",
    "\n",
    "\n",
    "\n",
    "planet_moons = {\n",
    "    'mercury': 0,\n",
    "    'venus': 0,\n",
    "    'earth': 1,\n",
    "    'mars': 2,\n",
    "    'jupiter': 79,\n",
    "    'saturn': 82,\n",
    "    'uranus': 27,\n",
    "    'neptune': 14,\n",
    "    'pluto': 5,\n",
    "    'haumea': 2,\n",
    "    'makemake': 1,\n",
    "    'eris': 1\n",
    "}\n",
    "\n",
    "for i in planet_moons.keys():    \n",
    "    print(f'{i} : {planet_moons[i]}')\n",
    "\n",
    "# Añade el código para determinar el número de lunas.\n",
    "moons = planet_moons.values()\n",
    "print(moons)\n",
    "\n",
    "planets = len(planet_moons.keys())\n",
    "print(planets)\n",
    "\n",
    "totalMoons = 0\n",
    "for i in moons:\n",
    "    totalMoons = totalMoons + i\n",
    "\n",
    "promedio = totalMoons / planets\n",
    "print(f'El promedio de lunas es de: {promedio}')\n",
    "\n",
    "\n"
   ]
  }
 ],
 "metadata": {
  "interpreter": {
   "hash": "695df99a7c2e3ed550c2c322d23fe660dffeeeff65386fd8e52516afd87f10f9"
  },
  "kernelspec": {
   "display_name": "Python 3.9.10 ('env': venv)",
   "language": "python",
   "name": "python3"
  },
  "language_info": {
   "codemirror_mode": {
    "name": "ipython",
    "version": 3
   },
   "file_extension": ".py",
   "mimetype": "text/x-python",
   "name": "python",
   "nbconvert_exporter": "python",
   "pygments_lexer": "ipython3",
   "version": "3.9.10"
  },
  "orig_nbformat": 4
 },
 "nbformat": 4,
 "nbformat_minor": 2
}
