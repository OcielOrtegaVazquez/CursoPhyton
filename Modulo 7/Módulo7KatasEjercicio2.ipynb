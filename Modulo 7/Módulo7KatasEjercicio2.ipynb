{
 "cells": [
  {
   "cell_type": "code",
   "execution_count": 2,
   "metadata": {},
   "outputs": [
    {
     "name": "stdout",
     "output_type": "stream",
     "text": [
      "luna\n",
      "luna\n",
      "luna\n",
      "luna\n",
      "luna\n",
      "sol\n",
      "luna\n",
      "luna\n",
      "sol\n",
      "tierra\n",
      "luna\n",
      "luna\n",
      "sol\n",
      "tierra\n",
      "luna\n",
      "luna\n",
      "sol\n",
      "tierra\n"
     ]
    }
   ],
   "source": [
    "# Declara dos variables\n",
    "\n",
    "newPlanet = ''\n",
    "planets = []\n",
    "\n",
    "# Escribe el ciclo while solicitado\n",
    "\n",
    "while newPlanet != 'done':\n",
    "    if newPlanet:\n",
    "        planets.append(newPlanet)\n",
    "    for i in planets:\n",
    "        print(i) \n",
    "    newPlanet = input(\"Ingresa el nombre de un planeta o puedes terminar escribiendo: 'done'\")\n",
    "    \n",
    "       \n",
    "            "
   ]
  }
 ],
 "metadata": {
  "interpreter": {
   "hash": "94dfd0829861ea723591b3001b7b8d6efd29c21741fffd6b6a162c01382c010b"
  },
  "kernelspec": {
   "display_name": "Python 3.10.2 64-bit",
   "language": "python",
   "name": "python3"
  },
  "language_info": {
   "codemirror_mode": {
    "name": "ipython",
    "version": 3
   },
   "file_extension": ".py",
   "mimetype": "text/x-python",
   "name": "python",
   "nbconvert_exporter": "python",
   "pygments_lexer": "ipython3",
   "version": "3.10.2"
  },
  "orig_nbformat": 4
 },
 "nbformat": 4,
 "nbformat_minor": 2
}
