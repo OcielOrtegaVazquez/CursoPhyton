{
 "cells": [
  {
   "cell_type": "code",
   "execution_count": 17,
   "metadata": {},
   "outputs": [
    {
     "name": "stdout",
     "output_type": "stream",
     "text": [
      " Tanque 1: 100%\n",
      "                Tanque 2: 75%\n",
      "                Tanque 3: 10%\n",
      "                Promedio : 61.666666666666664%\n"
     ]
    },
    {
     "data": {
      "text/plain": [
       "75.0"
      ]
     },
     "execution_count": 17,
     "metadata": {},
     "output_type": "execute_result"
    }
   ],
   "source": [
    "# Función para leer 3 tanques de combustible y muestre el promedio\n",
    "\n",
    "def tanqueCombustible (t1, t2, t3):\n",
    "    promedio = (t1 + t2 + t3) / 3\n",
    "\n",
    "    return f\"\"\" Tanque 1: {t1}%\n",
    "                Tanque 2: {t2}%\n",
    "                Tanque 3: {t3}%\n",
    "                Promedio : {promedio}%\"\"\"\n",
    "print(tanqueCombustible (100, 75, 10))\n",
    "\n",
    "# Función promedio \n",
    "\n",
    "def promedio (values):\n",
    "    total = sum(values)\n",
    "    i = len(values)\n",
    "    return total / i\n",
    "\n",
    "promedio([100, 50, 75])\n",
    "    \n",
    "\n",
    "\n",
    "\n",
    "\n"
   ]
  }
 ],
 "metadata": {
  "interpreter": {
   "hash": "695df99a7c2e3ed550c2c322d23fe660dffeeeff65386fd8e52516afd87f10f9"
  },
  "kernelspec": {
   "display_name": "Python 3.9.10 ('env': venv)",
   "language": "python",
   "name": "python3"
  },
  "language_info": {
   "codemirror_mode": {
    "name": "ipython",
    "version": 3
   },
   "file_extension": ".py",
   "mimetype": "text/x-python",
   "name": "python",
   "nbconvert_exporter": "python",
   "pygments_lexer": "ipython3",
   "version": "3.9.10"
  },
  "orig_nbformat": 4
 },
 "nbformat": 4,
 "nbformat_minor": 2
}
