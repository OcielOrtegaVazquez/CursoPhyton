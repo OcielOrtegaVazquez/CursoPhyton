{
 "cells": [
  {
   "cell_type": "code",
   "execution_count": 20,
   "metadata": {},
   "outputs": [
    {
     "name": "stdout",
     "output_type": "stream",
     "text": [
      " Mision a: Marte\n",
      "                    Tiempo de vuelo: 66 minutos\n",
      "                    Total de Combustible: 232324232 Lts\n"
     ]
    }
   ],
   "source": [
    "# Función con un informe preciso de la misión. Considera:\n",
    "# *** hora de prelanzamiento,\n",
    "# *** tiempo de vuelo,\n",
    "# *** destino,\n",
    "# *** tanque externo y\n",
    "# *** tanque interno\n",
    "\n",
    "def informeDeLaMision (preLanzamiento, tiempoVuelo, destino, tanqueExterno, tanqueInterno):\n",
    "    return (f\"\"\" Mision a: {destino}\n",
    "                    Tiempo de vuelo: {preLanzamiento + tiempoVuelo} minutos\n",
    "                    Total de Combustible: {tanqueExterno + tanqueInterno} Lts\"\"\")\n",
    "\n",
    "print(informeDeLaMision(10, 56, \"Marte\", 200000, 232124232))"
   ]
  },
  {
   "cell_type": "code",
   "execution_count": 21,
   "metadata": {},
   "outputs": [
    {
     "name": "stdout",
     "output_type": "stream",
     "text": [
      " Mision a: Marte\n",
      "                    Tiempo de vuelo: 825 minutos\n",
      "                    Total de Combustible: 346231 Lts\n"
     ]
    }
   ],
   "source": [
    "# Función con un informe preciso de la misión. Considera:\n",
    "# *** hora de prelanzamiento,\n",
    "# *** tiempo de vuelo,\n",
    "# *** destino,\n",
    "# *** tanque externo y\n",
    "# *** tanque interno\n",
    "\n",
    "def informeDeLaMision (destino, *minutos, **reservaTanque):\n",
    "    return (f\"\"\" Mision a: {destino}\n",
    "                    Tiempo de vuelo: {sum(minutos)} minutos\n",
    "                    Total de Combustible: {sum(reservaTanque.values())} Lts\"\"\")\n",
    "\n",
    "print(informeDeLaMision(\"Marte\", 45, 768, 12, principal = 1000, secundario = 345231))"
   ]
  },
  {
   "cell_type": "code",
   "execution_count": 22,
   "metadata": {},
   "outputs": [
    {
     "name": "stdout",
     "output_type": "stream",
     "text": [
      " Mision a: Marte\n",
      "                    Tiempo de vuelo: 825 minutos\n",
      "                    Total de Combustible: 346231 Lts\n",
      " principal tanque: 1000 litros\n",
      " secundario tanque: 345231 litros\n",
      "\n"
     ]
    }
   ],
   "source": [
    "# Función con un informe preciso de la misión. Considera:\n",
    "# *** hora de prelanzamiento,\n",
    "# *** tiempo de vuelo,\n",
    "# *** destino,\n",
    "# *** tanque externo y\n",
    "# *** tanque interno\n",
    "\n",
    "def informeDeLaMision (destino, *minutos, **reservaTanque):\n",
    "    informe = (f\"\"\" Mision a: {destino}\n",
    "                    Tiempo de vuelo: {sum(minutos)} minutos\n",
    "                    Total de Combustible: {sum(reservaTanque.values())} Lts\\n\"\"\")\n",
    "    for nombreTanke, litros in reservaTanque.items():\n",
    "        informe += f\" {nombreTanke} tanque: { litros} litros\\n\"\n",
    "    return informe\n",
    "\n",
    "print(informeDeLaMision(\"Marte\", 45, 768, 12, principal = 1000, secundario = 345231))"
   ]
  }
 ],
 "metadata": {
  "interpreter": {
   "hash": "695df99a7c2e3ed550c2c322d23fe660dffeeeff65386fd8e52516afd87f10f9"
  },
  "kernelspec": {
   "display_name": "Python 3.9.10 ('env': venv)",
   "language": "python",
   "name": "python3"
  },
  "language_info": {
   "codemirror_mode": {
    "name": "ipython",
    "version": 3
   },
   "file_extension": ".py",
   "mimetype": "text/x-python",
   "name": "python",
   "nbconvert_exporter": "python",
   "pygments_lexer": "ipython3",
   "version": "3.9.10"
  },
  "orig_nbformat": 4
 },
 "nbformat": 4,
 "nbformat_minor": 2
}
